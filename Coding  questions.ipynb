{
 "cells": [
  {
   "cell_type": "markdown",
   "metadata": {},
   "source": [
    "# Find the sum of the odd and even digit of a number and finding diff between them."
   ]
  },
  {
   "cell_type": "code",
   "execution_count": 64,
   "metadata": {},
   "outputs": [
    {
     "name": "stdout",
     "output_type": "stream",
     "text": [
      "Enter the number:1234\n",
      "2\n"
     ]
    }
   ],
   "source": [
    "a=int(input(\"Enter the number:\"))\n",
    "n=a;\n",
    "ls=[]\n",
    "#entering the each digit to the list\n",
    "while a>0:\n",
    "    b=a%10\n",
    "    ls.append(b)\n",
    "    a=a//10\n",
    "ls1=ls[::-1] #reverse of list\n",
    "c=1\n",
    "es=0 #even sum\n",
    "os=0 #odd sum\n",
    "s=0 #diff b/t even and odd sum\n",
    "for i in ls1:\n",
    "    if c%2==0:\n",
    "        es=es+i\n",
    "        c=c+1\n",
    "    else:\n",
    "        os=os+i\n",
    "        c=c+1\n",
    "s=abs(es-os)\n",
    "print(s)"
   ]
  },
  {
   "cell_type": "markdown",
   "metadata": {},
   "source": [
    "# Find all the Substring of the array and find the total sum of all the substring"
   ]
  },
  {
   "cell_type": "code",
   "execution_count": 40,
   "metadata": {},
   "outputs": [
    {
     "name": "stdout",
     "output_type": "stream",
     "text": [
      "Enter the no of element:3\n",
      "Enter the elements:\n",
      "1\n",
      "2\n",
      "3\n",
      "Subsets are:\n",
      "[ 1 ]\n",
      "[ 2 ]\n",
      "[ 3 ]\n",
      "[1, 2]\n",
      "[1, 2, 3]\n",
      "[2, 3]\n",
      "Total sum is: 20\n"
     ]
    }
   ],
   "source": [
    "n=int(input(\"Enter the no of element:\"))\n",
    "ls=[]\n",
    "print(\"Enter the elements:\")\n",
    "for i in range(0,n):\n",
    "    a=int(input())\n",
    "    ls.append(a)\n",
    "s=0\n",
    "ss=[]\n",
    "print(\"Subsets are:\")\n",
    "for j in range(0,n):\n",
    "    print(\"[\",ls[j],\"]\")\n",
    "    ss.append(ls[j])\n",
    "    \n",
    "for k in range(0,n):\n",
    "    for l in range(k+1,n):\n",
    "        print(ls[k:l+1])\n",
    "        s=sum(ls[k:l+1])\n",
    "        ss.append(s)\n",
    "print(\"Total sum is:\",sum(ss))\n",
    "        "
   ]
  },
  {
   "cell_type": "markdown",
   "metadata": {},
   "source": [
    "# Find the numbers which has a least sum in the array and print them"
   ]
  },
  {
   "cell_type": "code",
   "execution_count": 59,
   "metadata": {},
   "outputs": [
    {
     "name": "stdout",
     "output_type": "stream",
     "text": [
      "enter the no of ele:3\n",
      "enter the ele:\n",
      "1\n",
      "2\n",
      "3\n",
      "the numbers are:\n",
      "1 2\n",
      "2 3\n"
     ]
    }
   ],
   "source": [
    "n=int(input(\"enter the no of ele:\"))\n",
    "ls=[]\n",
    "print(\"enter the ele:\")\n",
    "for z in range(0,n):\n",
    "    e=int(input())\n",
    "    ls.append(e)\n",
    "l=len(ls)\n",
    "s=abs(ls[0]-ls[1]) #initial sum\n",
    "#finding least sum\n",
    "for i in range(0,l):  \n",
    "   for j in range(0,l):\n",
    "        s1=abs(ls[i]-ls[j])\n",
    "        if(s1<s and s1>0):\n",
    "            s=s1\n",
    "#check if the sum is equal to least sum\n",
    "print(\"the numbers are:\")\n",
    "for i in range(0,l):\n",
    "   for j in range(i,l):\n",
    "        s2=abs(ls[i]-ls[j])\n",
    "        if (s2==s):\n",
    "            print(ls[i],ls[j])\n",
    "    "
   ]
  },
  {
   "cell_type": "markdown",
   "metadata": {},
   "source": [
    "# Find the matching pairs of numbers in the array and return the count of matching pairs"
   ]
  },
  {
   "cell_type": "code",
   "execution_count": 2,
   "metadata": {},
   "outputs": [
    {
     "name": "stdout",
     "output_type": "stream",
     "text": [
      "enter the no of ele:5\n",
      "enter the ele:\n",
      "10\n",
      "20\n",
      "30\n",
      "10\n",
      "20\n",
      "no of matched pair is: 2\n"
     ]
    }
   ],
   "source": [
    "def matchpair(n, ar):\n",
    "    c=0\n",
    "    clr=0\n",
    "    arr=[]\n",
    "    for i in range(0,n):\n",
    "        clr=ar[i]\n",
    "        if clr in arr:\n",
    "            c=c+1\n",
    "            arr.remove(clr)\n",
    "        else:\n",
    "            arr.append(clr)\n",
    "    return c\n",
    "\n",
    "n=int(input(\"enter the no of ele:\"))\n",
    "ar=[]\n",
    "print(\"enter the ele:\")\n",
    "for i in range(0,n):\n",
    "    e=int(input())\n",
    "    ar.append(e)\n",
    "out=matchpair(n,ar)\n",
    "print(\"no of matched pair is:\",out)"
   ]
  },
  {
   "cell_type": "code",
   "execution_count": 6,
   "metadata": {},
   "outputs": [
    {
     "data": {
      "text/plain": [
       "['a', 'b', 'c']"
      ]
     },
     "execution_count": 6,
     "metadata": {},
     "output_type": "execute_result"
    }
   ],
   "source": [
    "s=\"abc\"\n",
    "\n",
    "ls=list(s.strip())\n",
    "ls"
   ]
  }
 ],
 "metadata": {
  "kernelspec": {
   "display_name": "Python 3",
   "language": "python",
   "name": "python3"
  },
  "language_info": {
   "codemirror_mode": {
    "name": "ipython",
    "version": 3
   },
   "file_extension": ".py",
   "mimetype": "text/x-python",
   "name": "python",
   "nbconvert_exporter": "python",
   "pygments_lexer": "ipython3",
   "version": "3.7.1"
  }
 },
 "nbformat": 4,
 "nbformat_minor": 2
}
